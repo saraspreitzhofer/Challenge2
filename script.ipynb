{
 "cells": [
  {
   "metadata": {
    "ExecuteTime": {
     "end_time": "2024-05-01T15:55:47.502113Z",
     "start_time": "2024-05-01T15:55:47.499377Z"
    }
   },
   "cell_type": "code",
   "source": [
    "# pip install jupyter\n",
    "# pip install urllib3==1.26.6"
   ],
   "id": "4b634097f2df857c",
   "outputs": [],
   "execution_count": 1
  },
  {
   "metadata": {
    "ExecuteTime": {
     "end_time": "2024-05-01T15:55:48.225615Z",
     "start_time": "2024-05-01T15:55:47.503236Z"
    }
   },
   "cell_type": "code",
   "source": [
    "import torch\n",
    "if torch.cuda.is_available():\n",
    "  print(\"GPU used\")\n",
    "else:\n",
    "  print(\"CPU used, slower execution\")\n",
    "  print(\"Try to get a GPU runtime for faster progress\")"
   ],
   "id": "e2cd7b58a502120e",
   "outputs": [
    {
     "name": "stdout",
     "output_type": "stream",
     "text": [
      "CPU used, slower execution\n",
      "Try to get a GPU runtime for faster progress\n"
     ]
    }
   ],
   "execution_count": 2
  },
  {
   "metadata": {
    "ExecuteTime": {
     "end_time": "2024-05-01T15:55:48.467692Z",
     "start_time": "2024-05-01T15:55:48.226407Z"
    }
   },
   "cell_type": "code",
   "source": [
    "!pwd\n",
    "!ls"
   ],
   "id": "e60b21cc92886991",
   "outputs": [
    {
     "name": "stdout",
     "output_type": "stream",
     "text": [
      "/Users/saraspreitzhofer/technikum/2. Semester/Development Project/Challenge2/Challenge2\r\n",
      "config.py         \u001B[34mmodels\u001B[m\u001B[m            script.ipynb\r\n",
      "\u001B[34mdata\u001B[m\u001B[m              requirements.txt  test_crossval.py\r\n",
      "\u001B[34mdataset\u001B[m\u001B[m           \u001B[34mresults\u001B[m\u001B[m           train_crossval.py\r\n"
     ]
    }
   ],
   "execution_count": 3
  },
  {
   "metadata": {
    "ExecuteTime": {
     "end_time": "2024-05-01T15:55:48.881296Z",
     "start_time": "2024-05-01T15:55:48.469726Z"
    }
   },
   "cell_type": "code",
   "source": [
    "from dataset.dataset_ESC50 import ESC50\n",
    "import config\n",
    "\n",
    "testset = ESC50(subset=\"test\", root=config.esc50_path, download=True)"
   ],
   "id": "f683a7edf6e46c6e",
   "outputs": [],
   "execution_count": 4
  },
  {
   "metadata": {
    "ExecuteTime": {
     "end_time": "2024-05-01T15:58:27.442696Z",
     "start_time": "2024-05-01T15:55:48.882117Z"
    }
   },
   "cell_type": "code",
   "source": "!python train_crossval.py",
   "id": "e122cb4dda28eeed",
   "outputs": [
    {
     "name": "stdout",
     "output_type": "stream",
     "text": [
      "*****\r\n",
      "train folds are {2, 3, 4, 5} and test fold is {1}\r\n",
      "random wave cropping\r\n",
      "\r\n",
      "ResNet(block=ResidualBlock, layers=[2, 2, 2, 2], num_classes=config.n_classes)\r\n",
      "*****\r\n",
      "\r\n",
      "100%|██████████████████████████████████████████| 40/40 [01:57<00:00,  2.95s/bat]\r\n",
      "100%|██████████████████████████████████████████| 10/10 [00:20<00:00,  2.03s/bat]\r\n",
      "  0%|          | 1/200 [02:18<7:38:16, 138.18s/ep] TrnAcc=0.073 ValAcc=0.084 TrnLoss=3.682 ValLoss=3.441 < inf --> checkpoint\r\n",
      " 10%|████▎                                      | 4/40 [00:16<02:02,  3.41s/bat]^C\r\n"
     ]
    }
   ],
   "execution_count": 5
  },
  {
   "metadata": {
    "ExecuteTime": {
     "end_time": "2024-05-01T16:00:10.303113Z",
     "start_time": "2024-05-01T15:58:27.444318Z"
    }
   },
   "cell_type": "code",
   "source": [
    "import pandas as pd\n",
    "!python test_crossval.py"
   ],
   "id": "12fee1a27b0f86d0",
   "outputs": [
    {
     "name": "stdout",
     "output_type": "stream",
     "text": [
      "*****\r\n",
      "ResNet(block=ResidualBlock, layers=[2, 2, 2, 2], num_classes=config.n_classes)\r\n",
      "*****\r\n",
      "\r\n",
      "test results/sample-run/1/terminal.pt\r\n",
      "100%|██████████████████████████████████████████| 13/13 [00:19<00:00,  1.52s/bat]\r\n",
      "TestAcc    0.685\r\n",
      "TestLoss   1.155\r\n",
      "dtype: float64\r\n",
      "\r\n",
      "test results/sample-run/2/terminal.pt\r\n",
      "100%|██████████████████████████████████████████| 13/13 [00:20<00:00,  1.55s/bat]\r\n",
      "TestAcc    0.665\r\n",
      "TestLoss   1.173\r\n",
      "dtype: float64\r\n",
      "\r\n",
      "test results/sample-run/3/terminal.pt\r\n",
      "100%|██████████████████████████████████████████| 13/13 [00:20<00:00,  1.57s/bat]\r\n",
      "TestAcc    0.688\r\n",
      "TestLoss   1.166\r\n",
      "dtype: float64\r\n",
      "\r\n",
      "test results/sample-run/4/terminal.pt\r\n",
      "100%|██████████████████████████████████████████| 13/13 [00:19<00:00,  1.53s/bat]\r\n",
      "TestAcc    0.790\r\n",
      "TestLoss   0.814\r\n",
      "dtype: float64\r\n",
      "\r\n",
      "test results/sample-run/5/terminal.pt\r\n",
      "100%|██████████████████████████████████████████| 13/13 [00:20<00:00,  1.59s/bat]\r\n",
      "TestAcc    0.688\r\n",
      "TestLoss   1.169\r\n",
      "dtype: float64\r\n",
      "     terminal.pt         \r\n",
      "         TestAcc TestLoss\r\n",
      "1          0.685    1.155\r\n",
      "2          0.665    1.173\r\n",
      "3          0.688    1.166\r\n",
      "4          0.790    0.814\r\n",
      "5          0.688    1.169\r\n",
      "mean       0.703    1.095\r\n",
      "std        0.050    0.157\r\n",
      "\r\n"
     ]
    }
   ],
   "execution_count": 6
  }
 ],
 "metadata": {
  "kernelspec": {
   "display_name": "Python 3",
   "language": "python",
   "name": "python3"
  },
  "language_info": {
   "codemirror_mode": {
    "name": "ipython",
    "version": 2
   },
   "file_extension": ".py",
   "mimetype": "text/x-python",
   "name": "python",
   "nbconvert_exporter": "python",
   "pygments_lexer": "ipython2",
   "version": "2.7.6"
  }
 },
 "nbformat": 4,
 "nbformat_minor": 5
}
